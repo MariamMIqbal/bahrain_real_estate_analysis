{
 "cells": [
  {
   "cell_type": "markdown",
   "id": "7a3fa69a-ebb7-49cb-a265-47e1cbf7cf03",
   "metadata": {},
   "source": [
    "## Q&A"
   ]
  },
  {
   "cell_type": "code",
   "execution_count": 1,
   "id": "f4def54e-2940-4fad-9722-963150e3510f",
   "metadata": {},
   "outputs": [],
   "source": [
    "lst = [100, [\"blabla\", 250]]"
   ]
  },
  {
   "cell_type": "code",
   "execution_count": 6,
   "id": "d7fee377-a115-4082-9c9f-35fb3bf97889",
   "metadata": {},
   "outputs": [
    {
     "data": {
      "text/plain": [
       "['blabla', 250]"
      ]
     },
     "execution_count": 6,
     "metadata": {},
     "output_type": "execute_result"
    }
   ],
   "source": [
    "lst[1]"
   ]
  },
  {
   "cell_type": "code",
   "execution_count": 5,
   "id": "5c4ba5a4-86f9-4412-9946-ef4d3fcfd7a5",
   "metadata": {},
   "outputs": [
    {
     "data": {
      "text/plain": [
       "'blabla'"
      ]
     },
     "execution_count": 5,
     "metadata": {},
     "output_type": "execute_result"
    }
   ],
   "source": [
    "lst[1][0]"
   ]
  },
  {
   "cell_type": "code",
   "execution_count": 8,
   "id": "59bc07a6-daa2-4604-afed-d17b14c7655f",
   "metadata": {},
   "outputs": [
    {
     "data": {
      "text/plain": [
       "'a'"
      ]
     },
     "execution_count": 8,
     "metadata": {},
     "output_type": "execute_result"
    }
   ],
   "source": [
    "lst[1][0][2]"
   ]
  },
  {
   "cell_type": "code",
   "execution_count": null,
   "id": "701001c1-d631-437d-96f7-f53f5f7cc952",
   "metadata": {},
   "outputs": [],
   "source": []
  },
  {
   "cell_type": "markdown",
   "id": "7575b0b7-18b9-4ad2-bf77-cbf07a478401",
   "metadata": {},
   "source": [
    "## Set"
   ]
  },
  {
   "cell_type": "markdown",
   "id": "21e46d66-bf77-4d9b-a275-04beef8b1aea",
   "metadata": {},
   "source": [
    "**What is a Set?**  \n",
    "\n",
    "A set is an unordered collection of unique elements.\n",
    "\n",
    "Sets automatically remove duplicates.\n",
    "\n",
    "Sets are mutable (you can add or remove elements)."
   ]
  },
  {
   "cell_type": "markdown",
   "id": "7c9d9cd1-4c88-440c-aa1c-b1d98dbdf5e6",
   "metadata": {},
   "source": [
    "## Creating Set"
   ]
  },
  {
   "cell_type": "code",
   "execution_count": 9,
   "id": "05fd4b7e-4563-46d7-a706-38aff06d9733",
   "metadata": {},
   "outputs": [
    {
     "data": {
      "text/plain": [
       "{'Zaina', 'Zainab'}"
      ]
     },
     "execution_count": 9,
     "metadata": {},
     "output_type": "execute_result"
    }
   ],
   "source": [
    "set_names = {\"Zainab\", \"Zaina\"} # set is unordered\n",
    "set_names"
   ]
  },
  {
   "cell_type": "code",
   "execution_count": 10,
   "id": "26a42e8f-e1ab-449b-af4f-d21580fac868",
   "metadata": {},
   "outputs": [
    {
     "ename": "TypeError",
     "evalue": "'set' object is not subscriptable",
     "output_type": "error",
     "traceback": [
      "\u001b[1;31m---------------------------------------------------------------------------\u001b[0m",
      "\u001b[1;31mTypeError\u001b[0m                                 Traceback (most recent call last)",
      "Cell \u001b[1;32mIn[10], line 1\u001b[0m\n\u001b[1;32m----> 1\u001b[0m \u001b[43mset_names\u001b[49m\u001b[43m[\u001b[49m\u001b[38;5;241;43m0\u001b[39;49m\u001b[43m]\u001b[49m\n",
      "\u001b[1;31mTypeError\u001b[0m: 'set' object is not subscriptable"
     ]
    }
   ],
   "source": [
    "set_names[0]"
   ]
  },
  {
   "cell_type": "code",
   "execution_count": 11,
   "id": "e46b40c5-1cea-4ffc-ab43-f95551cfc684",
   "metadata": {},
   "outputs": [
    {
     "data": {
      "text/plain": [
       "{'Zaina', 'Zainab'}"
      ]
     },
     "execution_count": 11,
     "metadata": {},
     "output_type": "execute_result"
    }
   ],
   "source": [
    "set_names = {\"Zainab\", \"Zaina\", \"Zainab\"} # removing duplicates\n",
    "set_names"
   ]
  },
  {
   "cell_type": "code",
   "execution_count": 12,
   "id": "fa061935-73ae-44cb-a2d7-8c7c8c84e881",
   "metadata": {},
   "outputs": [
    {
     "data": {
      "text/plain": [
       "{1, 2, 3}"
      ]
     },
     "execution_count": 12,
     "metadata": {},
     "output_type": "execute_result"
    }
   ],
   "source": [
    "numbers = {1, 2, 1, 1, 3, 2, 2, 1}\n",
    "numbers"
   ]
  },
  {
   "cell_type": "code",
   "execution_count": 14,
   "id": "d79a40ca-c0d9-4cd1-8d28-0a8d1d73b57a",
   "metadata": {},
   "outputs": [
    {
     "data": {
      "text/plain": [
       "set()"
      ]
     },
     "execution_count": 14,
     "metadata": {},
     "output_type": "execute_result"
    }
   ],
   "source": [
    "empty = set()\n",
    "empty"
   ]
  },
  {
   "cell_type": "code",
   "execution_count": 15,
   "id": "1a6140e3-0542-47ac-bfe5-22a6a6d588b2",
   "metadata": {},
   "outputs": [
    {
     "data": {
      "text/plain": [
       "0"
      ]
     },
     "execution_count": 15,
     "metadata": {},
     "output_type": "execute_result"
    }
   ],
   "source": [
    "len(empty)"
   ]
  },
  {
   "cell_type": "code",
   "execution_count": 19,
   "id": "0dc379a6-7dd4-4bb5-80d9-fd388759c97c",
   "metadata": {},
   "outputs": [
    {
     "data": {
      "text/plain": [
       "{1, 2, 3}"
      ]
     },
     "execution_count": 19,
     "metadata": {},
     "output_type": "execute_result"
    }
   ],
   "source": [
    "numbers = set([1, 2, 3, 3, 2, 1, 2])\n",
    "numbers"
   ]
  },
  {
   "cell_type": "markdown",
   "id": "96c4da0f-e62e-4b07-bc3d-f0fc64b441e4",
   "metadata": {},
   "source": [
    "## `In` operator (Checking the membership)"
   ]
  },
  {
   "cell_type": "code",
   "execution_count": 16,
   "id": "1b58edf7-cfd7-4e5b-811e-ba992eaa9b6d",
   "metadata": {},
   "outputs": [
    {
     "data": {
      "text/plain": [
       "True"
      ]
     },
     "execution_count": 16,
     "metadata": {},
     "output_type": "execute_result"
    }
   ],
   "source": [
    "5 in {5, 10}"
   ]
  },
  {
   "cell_type": "code",
   "execution_count": 17,
   "id": "97a773de-56e4-4a3e-a55c-14f1a93b3132",
   "metadata": {},
   "outputs": [
    {
     "data": {
      "text/plain": [
       "False"
      ]
     },
     "execution_count": 17,
     "metadata": {},
     "output_type": "execute_result"
    }
   ],
   "source": [
    "100 in {5, 10} # Faster"
   ]
  },
  {
   "cell_type": "code",
   "execution_count": 18,
   "id": "c31f088f-4c44-4e6d-911d-9f86ff61c271",
   "metadata": {},
   "outputs": [
    {
     "data": {
      "text/plain": [
       "False"
      ]
     },
     "execution_count": 18,
     "metadata": {},
     "output_type": "execute_result"
    }
   ],
   "source": [
    "100 in [5, 10] # slow"
   ]
  },
  {
   "cell_type": "markdown",
   "id": "f09bedde-6eb1-4ec5-98f0-882084944132",
   "metadata": {},
   "source": [
    "## Set Methods"
   ]
  },
  {
   "cell_type": "markdown",
   "id": "10117e26-ade5-4b89-bdc1-882c6aac5eef",
   "metadata": {},
   "source": [
    "### Basic Operations"
   ]
  },
  {
   "cell_type": "code",
   "execution_count": 28,
   "id": "d8885de7-272f-494c-b8b0-4a53b6cd5979",
   "metadata": {},
   "outputs": [
    {
     "data": {
      "text/plain": [
       "{'Hassan', 'Zaina', 'Zainab'}"
      ]
     },
     "execution_count": 28,
     "metadata": {},
     "output_type": "execute_result"
    }
   ],
   "source": [
    "set_names = {\"Zainab\", \"Zaina\"} \n",
    "set_names.add(\"Hassan\") # mutable\n",
    "set_names"
   ]
  },
  {
   "cell_type": "code",
   "execution_count": 29,
   "id": "6bfcac1a-68c0-466b-a85e-b8ac9a7166a9",
   "metadata": {
    "tags": []
   },
   "outputs": [
    {
     "data": {
      "text/plain": [
       "{'Hassan', 'Mariam', 'Noor', 'Zaina', 'Zainab'}"
      ]
     },
     "execution_count": 29,
     "metadata": {},
     "output_type": "execute_result"
    }
   ],
   "source": [
    "set_names.update({\"Noor\", \"Mariam\"})\n",
    "set_names"
   ]
  },
  {
   "cell_type": "code",
   "execution_count": 30,
   "id": "6d833c9b-1e81-4096-ae40-24618a2efde9",
   "metadata": {
    "tags": []
   },
   "outputs": [
    {
     "data": {
      "text/plain": [
       "{'Hassan', 'Mariam', 'Noor', 'Zainab'}"
      ]
     },
     "execution_count": 30,
     "metadata": {},
     "output_type": "execute_result"
    }
   ],
   "source": [
    "set_names.remove(\"Zaina\")\n",
    "set_names"
   ]
  },
  {
   "cell_type": "code",
   "execution_count": 31,
   "id": "cc95d272-389f-4d94-91dc-725a4b7ece9d",
   "metadata": {
    "collapsed": true,
    "jupyter": {
     "outputs_hidden": true
    },
    "tags": []
   },
   "outputs": [
    {
     "ename": "KeyError",
     "evalue": "'Ali'",
     "output_type": "error",
     "traceback": [
      "\u001b[1;31m---------------------------------------------------------------------------\u001b[0m",
      "\u001b[1;31mKeyError\u001b[0m                                  Traceback (most recent call last)",
      "Cell \u001b[1;32mIn[31], line 1\u001b[0m\n\u001b[1;32m----> 1\u001b[0m \u001b[43mset_names\u001b[49m\u001b[38;5;241;43m.\u001b[39;49m\u001b[43mremove\u001b[49m\u001b[43m(\u001b[49m\u001b[38;5;124;43m\"\u001b[39;49m\u001b[38;5;124;43mAli\u001b[39;49m\u001b[38;5;124;43m\"\u001b[39;49m\u001b[43m)\u001b[49m\n\u001b[0;32m      2\u001b[0m set_names\n",
      "\u001b[1;31mKeyError\u001b[0m: 'Ali'"
     ]
    }
   ],
   "source": [
    "set_names.remove(\"Ali\")\n",
    "set_names"
   ]
  },
  {
   "cell_type": "code",
   "execution_count": 32,
   "id": "570329d2-3f7c-4d3a-bb46-9ebfe41b6099",
   "metadata": {},
   "outputs": [
    {
     "data": {
      "text/plain": [
       "{'Hassan', 'Mariam', 'Noor', 'Zainab'}"
      ]
     },
     "execution_count": 32,
     "metadata": {},
     "output_type": "execute_result"
    }
   ],
   "source": [
    "set_names.discard(\"Ali\")\n",
    "set_names"
   ]
  },
  {
   "cell_type": "code",
   "execution_count": 34,
   "id": "0749f1c4-313b-4119-abfc-ab5929b46482",
   "metadata": {},
   "outputs": [
    {
     "data": {
      "text/plain": [
       "{1, 2, 3}"
      ]
     },
     "execution_count": 34,
     "metadata": {},
     "output_type": "execute_result"
    }
   ],
   "source": [
    "numbers"
   ]
  },
  {
   "cell_type": "code",
   "execution_count": 35,
   "id": "cbaa183b-c15f-4a30-9c36-16f018e27def",
   "metadata": {},
   "outputs": [
    {
     "data": {
      "text/plain": [
       "set()"
      ]
     },
     "execution_count": 35,
     "metadata": {},
     "output_type": "execute_result"
    }
   ],
   "source": [
    "numbers.clear()\n",
    "numbers"
   ]
  },
  {
   "cell_type": "code",
   "execution_count": 37,
   "id": "1b460712-ac61-4c45-91f9-1bca40c355b7",
   "metadata": {},
   "outputs": [],
   "source": [
    "food = {'rice',  'bread', 'pizza', 'cheese'}\n",
    "breakfast = {'cheese', 'bread'}"
   ]
  },
  {
   "cell_type": "code",
   "execution_count": 38,
   "id": "838e44cc-1793-47e9-b675-23a3e3ac9cf0",
   "metadata": {},
   "outputs": [
    {
     "data": {
      "text/plain": [
       "True"
      ]
     },
     "execution_count": 38,
     "metadata": {},
     "output_type": "execute_result"
    }
   ],
   "source": [
    "breakfast.issubset(food)"
   ]
  },
  {
   "cell_type": "code",
   "execution_count": 39,
   "id": "addd793e-f7cf-4c18-a566-44e091b1f1f3",
   "metadata": {},
   "outputs": [
    {
     "data": {
      "text/plain": [
       "False"
      ]
     },
     "execution_count": 39,
     "metadata": {},
     "output_type": "execute_result"
    }
   ],
   "source": [
    "{'cheese', 'bread', 'eggs'}.issubset(food)"
   ]
  },
  {
   "cell_type": "code",
   "execution_count": 33,
   "id": "bd9ec591-7024-44e2-b2fd-1cae566ed81f",
   "metadata": {
    "collapsed": true,
    "jupyter": {
     "outputs_hidden": true
    },
    "tags": []
   },
   "outputs": [
    {
     "data": {
      "text/plain": [
       "['__and__',\n",
       " '__class__',\n",
       " '__class_getitem__',\n",
       " '__contains__',\n",
       " '__delattr__',\n",
       " '__dir__',\n",
       " '__doc__',\n",
       " '__eq__',\n",
       " '__format__',\n",
       " '__ge__',\n",
       " '__getattribute__',\n",
       " '__gt__',\n",
       " '__hash__',\n",
       " '__iand__',\n",
       " '__init__',\n",
       " '__init_subclass__',\n",
       " '__ior__',\n",
       " '__isub__',\n",
       " '__iter__',\n",
       " '__ixor__',\n",
       " '__le__',\n",
       " '__len__',\n",
       " '__lt__',\n",
       " '__ne__',\n",
       " '__new__',\n",
       " '__or__',\n",
       " '__rand__',\n",
       " '__reduce__',\n",
       " '__reduce_ex__',\n",
       " '__repr__',\n",
       " '__ror__',\n",
       " '__rsub__',\n",
       " '__rxor__',\n",
       " '__setattr__',\n",
       " '__sizeof__',\n",
       " '__str__',\n",
       " '__sub__',\n",
       " '__subclasshook__',\n",
       " '__xor__',\n",
       " 'add',\n",
       " 'clear',\n",
       " 'copy',\n",
       " 'difference',\n",
       " 'difference_update',\n",
       " 'discard',\n",
       " 'intersection',\n",
       " 'intersection_update',\n",
       " 'isdisjoint',\n",
       " 'issubset',\n",
       " 'issuperset',\n",
       " 'pop',\n",
       " 'remove',\n",
       " 'symmetric_difference',\n",
       " 'symmetric_difference_update',\n",
       " 'union',\n",
       " 'update']"
      ]
     },
     "execution_count": 33,
     "metadata": {},
     "output_type": "execute_result"
    }
   ],
   "source": [
    "dir(set_names)"
   ]
  },
  {
   "cell_type": "markdown",
   "id": "105da74a-b94f-4bfe-a884-785e5323a496",
   "metadata": {},
   "source": [
    "## The most interisting part"
   ]
  },
  {
   "cell_type": "code",
   "execution_count": 40,
   "id": "1d4adb94-bc0e-4d5a-bd4e-8f6a4abd6556",
   "metadata": {
    "tags": []
   },
   "outputs": [],
   "source": [
    "breakfast = {'cheese', 'bread', 'egg', 'butter', 'honey'}\n",
    "lunch = {'baryani', 'pizza', 'rice', 'bread'}"
   ]
  },
  {
   "cell_type": "markdown",
   "id": "745c85dd-8161-4788-8bda-e3f5b744e777",
   "metadata": {},
   "source": [
    "![](data:image/png;base64,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)"
   ]
  },
  {
   "cell_type": "code",
   "execution_count": 41,
   "id": "a9576e6b-06fe-4568-8186-c82b05c25c9f",
   "metadata": {},
   "outputs": [
    {
     "data": {
      "text/plain": [
       "{'baryani', 'bread', 'butter', 'cheese', 'egg', 'honey', 'pizza', 'rice'}"
      ]
     },
     "execution_count": 41,
     "metadata": {},
     "output_type": "execute_result"
    }
   ],
   "source": [
    "breakfast.union(lunch)"
   ]
  },
  {
   "cell_type": "code",
   "execution_count": 42,
   "id": "2e72e6ed-9be6-45c9-99a3-b18fc9d17fa9",
   "metadata": {},
   "outputs": [
    {
     "data": {
      "text/plain": [
       "{'baryani', 'bread', 'butter', 'cheese', 'egg', 'honey', 'pizza', 'rice'}"
      ]
     },
     "execution_count": 42,
     "metadata": {},
     "output_type": "execute_result"
    }
   ],
   "source": [
    "breakfast | lunch"
   ]
  },
  {
   "cell_type": "code",
   "execution_count": 43,
   "id": "b36499e0-b624-447a-9be0-9ed99590cbc0",
   "metadata": {},
   "outputs": [
    {
     "data": {
      "text/plain": [
       "{1001, 1002, 2002}"
      ]
     },
     "execution_count": 43,
     "metadata": {},
     "output_type": "execute_result"
    }
   ],
   "source": [
    "cus_2020 = {1001, 1002}\n",
    "cus_2021 = {1001, 2002}\n",
    "cus_2021 | cus_2020"
   ]
  },
  {
   "cell_type": "markdown",
   "id": "6338d007-536d-4e7e-9253-04dcfd722583",
   "metadata": {},
   "source": [
    "![](data:image/jpeg;base64,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)"
   ]
  },
  {
   "cell_type": "code",
   "execution_count": 44,
   "id": "71a27c13-fd17-42ce-82ca-6d7d5cead1bf",
   "metadata": {},
   "outputs": [
    {
     "data": {
      "text/plain": [
       "{'bread'}"
      ]
     },
     "execution_count": 44,
     "metadata": {},
     "output_type": "execute_result"
    }
   ],
   "source": [
    "breakfast.intersection(lunch)"
   ]
  },
  {
   "cell_type": "code",
   "execution_count": 45,
   "id": "d4991947-fb30-41bc-add5-d464d0c52ff5",
   "metadata": {},
   "outputs": [
    {
     "data": {
      "text/plain": [
       "{'bread'}"
      ]
     },
     "execution_count": 45,
     "metadata": {},
     "output_type": "execute_result"
    }
   ],
   "source": [
    "breakfast & lunch"
   ]
  },
  {
   "cell_type": "code",
   "execution_count": 46,
   "id": "f4b5d8e6-2a26-41b6-ad20-96a17432fbe0",
   "metadata": {},
   "outputs": [
    {
     "data": {
      "text/plain": [
       "set()"
      ]
     },
     "execution_count": 46,
     "metadata": {},
     "output_type": "execute_result"
    }
   ],
   "source": [
    "breakfast & {'Pizza'}"
   ]
  },
  {
   "cell_type": "markdown",
   "id": "018f120a-9161-4dc8-bc03-16f972cd62c4",
   "metadata": {},
   "source": [
    "![](data:image/jpeg;base64,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)"
   ]
  },
  {
   "cell_type": "code",
   "execution_count": 48,
   "id": "c7f941e2-a22a-4d4d-aa41-41ab554d1793",
   "metadata": {},
   "outputs": [
    {
     "data": {
      "text/plain": [
       "{'butter', 'cheese', 'egg', 'honey'}"
      ]
     },
     "execution_count": 48,
     "metadata": {},
     "output_type": "execute_result"
    }
   ],
   "source": [
    "breakfast.difference(lunch)"
   ]
  },
  {
   "cell_type": "code",
   "execution_count": 49,
   "id": "042209d0-9e44-45be-98db-8efcc5c3718e",
   "metadata": {},
   "outputs": [
    {
     "data": {
      "text/plain": [
       "{'butter', 'cheese', 'egg', 'honey'}"
      ]
     },
     "execution_count": 49,
     "metadata": {},
     "output_type": "execute_result"
    }
   ],
   "source": [
    "breakfast - lunch"
   ]
  },
  {
   "cell_type": "code",
   "execution_count": 50,
   "id": "ae6f24d3-bb61-49c4-a4a3-fd2f156eb084",
   "metadata": {},
   "outputs": [
    {
     "data": {
      "text/plain": [
       "{'baryani', 'pizza', 'rice'}"
      ]
     },
     "execution_count": 50,
     "metadata": {},
     "output_type": "execute_result"
    }
   ],
   "source": [
    "lunch - breakfast"
   ]
  },
  {
   "cell_type": "markdown",
   "id": "b8d08bf9-721d-4774-9064-f69d85b209e5",
   "metadata": {},
   "source": [
    "![](data:image/png;base64,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)"
   ]
  },
  {
   "cell_type": "code",
   "execution_count": 51,
   "id": "b57824f9-b129-4f8c-bbde-d072b80c3c78",
   "metadata": {},
   "outputs": [
    {
     "data": {
      "text/plain": [
       "{'baryani', 'butter', 'cheese', 'egg', 'honey', 'pizza', 'rice'}"
      ]
     },
     "execution_count": 51,
     "metadata": {},
     "output_type": "execute_result"
    }
   ],
   "source": [
    "breakfast.symmetric_difference(lunch)"
   ]
  },
  {
   "cell_type": "code",
   "execution_count": 52,
   "id": "52037a07-56e8-45c5-9770-50ac13373ccb",
   "metadata": {},
   "outputs": [
    {
     "data": {
      "text/plain": [
       "{'baryani', 'butter', 'cheese', 'egg', 'honey', 'pizza', 'rice'}"
      ]
     },
     "execution_count": 52,
     "metadata": {},
     "output_type": "execute_result"
    }
   ],
   "source": [
    "breakfast ^ lunch"
   ]
  },
  {
   "cell_type": "markdown",
   "id": "40297f9f-dc8a-4584-ae67-f40877dc86e6",
   "metadata": {},
   "source": [
    "## Traversing over set"
   ]
  },
  {
   "cell_type": "code",
   "execution_count": 53,
   "id": "ce23f422-c9ba-491b-abc7-dba0c9d52b1b",
   "metadata": {},
   "outputs": [
    {
     "data": {
      "text/plain": [
       "{'bread', 'butter', 'cheese', 'egg', 'honey'}"
      ]
     },
     "execution_count": 53,
     "metadata": {},
     "output_type": "execute_result"
    }
   ],
   "source": [
    "breakfast"
   ]
  },
  {
   "cell_type": "code",
   "execution_count": 55,
   "id": "73e62d37-a718-4eae-a39c-728fe7da3a6f",
   "metadata": {},
   "outputs": [
    {
     "name": "stdout",
     "output_type": "stream",
     "text": [
      "Honey\n",
      "Egg\n",
      "Bread\n",
      "Cheese\n",
      "Butter\n"
     ]
    }
   ],
   "source": [
    "for meal in breakfast:\n",
    "    print(meal.title())"
   ]
  },
  {
   "cell_type": "code",
   "execution_count": 59,
   "id": "5a4fdb60-587b-4fc5-bcae-102b9f8051c9",
   "metadata": {},
   "outputs": [
    {
     "name": "stdout",
     "output_type": "stream",
     "text": [
      "Bread\n",
      "Butter\n"
     ]
    }
   ],
   "source": [
    "for meal in breakfast:\n",
    "    if meal[0] == 'b':# meal.startswith('')\n",
    "        print(meal.title())"
   ]
  },
  {
   "cell_type": "markdown",
   "id": "949bd415-b7c2-496c-82a6-43cb077eefdb",
   "metadata": {},
   "source": [
    "## Set comprehention"
   ]
  },
  {
   "cell_type": "code",
   "execution_count": 60,
   "id": "f35f36c9-62e1-48fe-bf3b-588762444718",
   "metadata": {
    "scrolled": true
   },
   "outputs": [
    {
     "data": {
      "text/plain": [
       "{'Bread', 'Butter', 'Cheese', 'Egg', 'Honey'}"
      ]
     },
     "execution_count": 60,
     "metadata": {},
     "output_type": "execute_result"
    }
   ],
   "source": [
    "{meal.title() for meal in breakfast}"
   ]
  },
  {
   "cell_type": "code",
   "execution_count": 61,
   "id": "ec3f0d7c-0426-4f72-bd31-6c3c94b48e99",
   "metadata": {
    "scrolled": true
   },
   "outputs": [
    {
     "data": {
      "text/plain": [
       "{'Bread', 'Butter'}"
      ]
     },
     "execution_count": 61,
     "metadata": {},
     "output_type": "execute_result"
    }
   ],
   "source": [
    "{meal.title() for meal in breakfast if meal[0] == 'b'}"
   ]
  },
  {
   "cell_type": "code",
   "execution_count": null,
   "id": "8567ff61-9cfc-48c8-afbf-04d74dce0ffb",
   "metadata": {},
   "outputs": [],
   "source": []
  }
 ],
 "metadata": {
  "kernelspec": {
   "display_name": "Python [conda env:base] *",
   "language": "python",
   "name": "conda-base-py"
  },
  "language_info": {
   "codemirror_mode": {
    "name": "ipython",
    "version": 3
   },
   "file_extension": ".py",
   "mimetype": "text/x-python",
   "name": "python",
   "nbconvert_exporter": "python",
   "pygments_lexer": "ipython3",
   "version": "3.13.5"
  }
 },
 "nbformat": 4,
 "nbformat_minor": 5
}
