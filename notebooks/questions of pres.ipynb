{
 "cells": [
  {
   "cell_type": "markdown",
   "id": "8420e855-fee6-4220-96af-9eac419eed46",
   "metadata": {},
   "source": [
    "## Which regions or states report the most outbreaks per capita?"
   ]
  },
  {
   "cell_type": "markdown",
   "id": "4342ac98-08db-4099-bcbe-5a21733db5b2",
   "metadata": {},
   "source": [
    "## Top 10 causes of foodborne outbreaks."
   ]
  },
  {
   "cell_type": "markdown",
   "id": "37dce67b-5a7f-467e-8c14-38ddbac47f7b",
   "metadata": {
    "jp-MarkdownHeadingCollapsed": true
   },
   "source": [
    "## Are person-to-person outbreaks more likely to be viral or bacterial?"
   ]
  },
  {
   "cell_type": "markdown",
   "id": "7feee4b4-f977-40b0-ad13-62025cb4a90f",
   "metadata": {},
   "source": [
    "## Which U.S. state had the highest number of outbreaks?"
   ]
  },
  {
   "cell_type": "markdown",
   "id": "534411d6-577d-4a8c-9759-b298cd2a28f8",
   "metadata": {},
   "source": [
    "## How many total outbreaks were reported?"
   ]
  },
  {
   "cell_type": "markdown",
   "id": "afdca7ca-8d96-43e2-8840-3ba746d3c7c2",
   "metadata": {},
   "source": [
    "## How many outbreaks were due to Norovirus?"
   ]
  },
  {
   "cell_type": "markdown",
   "id": "4d95f6ca-7fdf-4fdb-8bd7-339e169e7291",
   "metadata": {},
   "source": [
    "## What is the average number of illnesses per outbreak?"
   ]
  },
  {
   "cell_type": "markdown",
   "id": "3c3d4ef7-540e-488a-8bb7-5998e7b7c161",
   "metadata": {},
   "source": [
    "## What is the most common cause (etiology) of outbreaks?"
   ]
  },
  {
   "cell_type": "markdown",
   "id": "be3a38f6-1823-4b6a-8dff-d44f580a6ffd",
   "metadata": {},
   "source": [
    "## Bar chart of top 5 etiologies."
   ]
  },
  {
   "cell_type": "code",
   "execution_count": null,
   "id": "209d0af8-6c22-4abe-8f14-701a5eca9f51",
   "metadata": {},
   "outputs": [],
   "source": []
  }
 ],
 "metadata": {
  "kernelspec": {
   "display_name": "Python [conda env:base] *",
   "language": "python",
   "name": "conda-base-py"
  },
  "language_info": {
   "codemirror_mode": {
    "name": "ipython",
    "version": 3
   },
   "file_extension": ".py",
   "mimetype": "text/x-python",
   "name": "python",
   "nbconvert_exporter": "python",
   "pygments_lexer": "ipython3",
   "version": "3.13.5"
  }
 },
 "nbformat": 4,
 "nbformat_minor": 5
}
